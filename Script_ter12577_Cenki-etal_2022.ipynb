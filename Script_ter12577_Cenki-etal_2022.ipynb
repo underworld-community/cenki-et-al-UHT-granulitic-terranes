{
 "cells": [
  {
   "cell_type": "markdown",
   "metadata": {},
   "source": [
    "#### ter12577- UWGeodynamics v2.12.4"
   ]
  },
  {
   "cell_type": "markdown",
   "metadata": {},
   "source": [
    "# Timing of partial melting and granulitisation during the formation of high to ultra-high temperature terranes: insight from numerical experiments: Cenki, Rey and Arcay\n",
    "\n",
    "The following notebook reproduces the numerical models presented in Cenki et al, 2021. This notebook has been strongly modified from \"Script-G47301_285-Cenki-Tok-etal\" by B. Cenki-Tok et al., 2020. More info on the code used under https://github.com/underworldcode/UWGeodynamics and https://www.underworldcode.org.\n",
    "\n",
    "Cenki, B., Rey, P. F., Arcay, D. and Giordani, J. (2022). Timing of partial melting and granulite formation during the genesis of high to ultra-high temperature terranes: insight from numerical experiments. Terra Nova DOI: 10.1111/ter.12577\n"
   ]
  },
  {
   "cell_type": "markdown",
   "metadata": {},
   "source": [
    "IMPORTANT NOTE:\n",
    "Each model runs through the three following steps (to be restarted manually): \n",
    "i) a shortening phase during which the crust thickens to ~ 60 km with either a slow total velocity of 0.24 cm.y-1 during 70 my or a fast total velocity of 2.4 cm.y-1 during ~ 7 my (delivering a strain rate averaged over the length of the model of 1.6 x 10-16 s-1 and 1.6 x 10-15 s-1 respectively); \n",
    "ii) a rapid increase in BHF (from 0.020 W.m-2 to 0.030 W.m-2) over 2.5 my while the velocities imposed on the vertical boundaries are set to zero (vx = vy = 0 cm.y-1), mimicking the thermal impact of a delamination phase; \n",
    "iii) a relaxation phase in which the crust returns to normal thickness, under slow extensional boundary conditions (total velocity of 0.10 cm.y-1) associated to a slow decrease in BHF from 0.030 W.m-2 to 0.020 W.m- 2 in ~ 70 my."
   ]
  },
  {
   "cell_type": "code",
   "execution_count": 1,
   "metadata": {},
   "outputs": [
    {
     "name": "stdout",
     "output_type": "stream",
     "text": [
      "loaded rc file /opt/venv/lib/python3.9/site-packages/UWGeodynamics/uwgeo-data/uwgeodynamicsrc\n"
     ]
    }
   ],
   "source": [
    "import matplotlib.pyplot as plt\n",
    "import UWGeodynamics as GEO\n",
    "import underworld as uw\n",
    "import underworld.function as fn\n",
    "from UWGeodynamics.surfaceProcesses import SedimentationThreshold\n",
    "import numpy as np\n",
    "import scipy\n",
    "import os.path\n",
    "from mpi4py import MPI\n",
    "import argparse\n",
    "#import glucifer\n",
    "from UWGeodynamics import visualisation as vis\n",
    "import math"
   ]
  },
  {
   "cell_type": "code",
   "execution_count": 2,
   "metadata": {},
   "outputs": [
    {
     "data": {
      "text/plain": [
       "'2.12.4'"
      ]
     },
     "execution_count": 2,
     "metadata": {},
     "output_type": "execute_result"
    }
   ],
   "source": [
    "GEO.__version__"
   ]
  },
  {
   "cell_type": "markdown",
   "metadata": {},
   "source": [
    "# Working with units\n",
    "\n",
    "Note that this is not an obligation and you can use values without units \n",
    "\n",
    "\n",
    "The geodynamics module enables usage of a broad range of units using a *UnitRegistry*. You can attach a unit to any value that you need to define. A value with a units attached becomes a *Quantity* python object. The geodynamics module take care of the conversion internally so you may use any units that you think are appropriate. You can also mix them.\n",
    "\n",
    "The module will also try to work out a scaling of the values to help the computation process. The user can chose to alter the way his or her values are scaled or can rely on the default options.\n",
    "\n",
    "To use the units system, you can link the unit registry as follow:"
   ]
  },
  {
   "cell_type": "code",
   "execution_count": null,
   "metadata": {},
   "outputs": [],
   "source": [
    "u = GEO.UnitRegistry"
   ]
  },
  {
   "cell_type": "markdown",
   "metadata": {},
   "source": [
    "## Scaling"
   ]
  },
  {
   "cell_type": "code",
   "execution_count": null,
   "metadata": {},
   "outputs": [],
   "source": [
    "resolution = (240,80)\n",
    "half_rate = 18 * u.millimeter / u.year\n",
    "model_length = 480e3 * u.meter\n",
    "surfaceTemp = 273.15 * u.degK\n",
    "baseModelTemp = 1603.15 * u.degK\n",
    "bodyforce = 3370 * u.kilogram / u.metre**3 * 9.81 * u.meter / u.second**2\n",
    "\n",
    "KL = model_length\n",
    "Kt = KL / half_rate\n",
    "KM = bodyforce * KL**2 * Kt**2\n",
    "KT = (baseModelTemp - surfaceTemp)\n",
    "\n",
    "GEO.scaling_coefficients[\"[length]\"] = KL\n",
    "GEO.scaling_coefficients[\"[time]\"] = Kt\n",
    "GEO.scaling_coefficients[\"[mass]\"]= KM\n",
    "GEO.scaling_coefficients[\"[temperature]\"] = KT"
   ]
  },
  {
   "cell_type": "markdown",
   "metadata": {},
   "source": [
    "# Model setup\n",
    "\n",
    "The starting model is 480 km long and 160 km thick, and includes 20 km of air-like material (low density, low viscosity) and a 35 to 40 km thick crust above 105 to 100 km of upper mantle."
   ]
  },
  {
   "cell_type": "code",
   "execution_count": null,
   "metadata": {},
   "outputs": [],
   "source": [
    "x =fn.misc.constant(0.)"
   ]
  },
  {
   "cell_type": "code",
   "execution_count": null,
   "metadata": {},
   "outputs": [],
   "source": [
    "x.value"
   ]
  },
  {
   "cell_type": "code",
   "execution_count": null,
   "metadata": {},
   "outputs": [],
   "source": [
    "x.value = 0."
   ]
  },
  {
   "cell_type": "code",
   "execution_count": null,
   "metadata": {},
   "outputs": [],
   "source": [
    "x.value"
   ]
  },
  {
   "cell_type": "code",
   "execution_count": null,
   "metadata": {},
   "outputs": [],
   "source": [
    "Model = GEO.Model(elementRes=resolution, \n",
    "                  minCoord=(0. * u.kilometer, -140. * u.kilometer), \n",
    "                  maxCoord=(480. * u.kilometer, 20. * u.kilometer), \n",
    "                  gravity=(0.0, -9.81 * u.meter / u.second**2))"
   ]
  },
  {
   "cell_type": "code",
   "execution_count": null,
   "metadata": {},
   "outputs": [],
   "source": [
    "Model.outputDir=\"outputs_script-G48875-Cenki-etal_Phaneroz2bis\""
   ]
  },
  {
   "cell_type": "code",
   "execution_count": null,
   "metadata": {},
   "outputs": [],
   "source": [
    "Model.dt.value"
   ]
  },
  {
   "cell_type": "code",
   "execution_count": null,
   "metadata": {},
   "outputs": [],
   "source": [
    "Model.dt = 0."
   ]
  },
  {
   "cell_type": "code",
   "execution_count": null,
   "metadata": {},
   "outputs": [],
   "source": [
    "Model.dt.value"
   ]
  },
  {
   "cell_type": "markdown",
   "metadata": {},
   "source": [
    "For all rocks, we assume a heat capacity of 1000 J kg−1 K−1 and thermal diffusivity of 1·10−6 m2 s−1."
   ]
  },
  {
   "cell_type": "code",
   "execution_count": null,
   "metadata": {},
   "outputs": [],
   "source": [
    "Model.diffusivity = 1e-6 * u.metre**2 / u.second \n",
    "Model.capacity    = 1000. * u.joule / (u.kelvin * u.kilogram)"
   ]
  },
  {
   "cell_type": "markdown",
   "metadata": {},
   "source": [
    "### Air Layer"
   ]
  },
  {
   "cell_type": "code",
   "execution_count": null,
   "metadata": {},
   "outputs": [],
   "source": [
    "air = Model.add_material(name=\"Air\", shape=GEO.shapes.Layer(top=Model.top, bottom=0 * u.kilometer))\n",
    "air.density = 1. * u.kilogram / u.metre**3\n",
    "air.diffusivity = 1e-6 * u.metre**2 / u.second\n",
    "air.capacity = 1000. * u.joule / (u.kelvin * u.kilogram)"
   ]
  },
  {
   "cell_type": "markdown",
   "metadata": {},
   "source": [
    "### Sediment"
   ]
  },
  {
   "cell_type": "code",
   "execution_count": null,
   "metadata": {},
   "outputs": [],
   "source": [
    "sediment = Model.add_material(name=\"Sediment\")\n",
    "sediment.density           = GEO.LinearDensity(reference_density=2300. * u.kilogram / u.metre**3)\n",
    "sediment.radiogenicHeatProd   = 0.7 * u.microwatt / u.meter**3"
   ]
  },
  {
   "cell_type": "markdown",
   "metadata": {},
   "source": [
    "### Continental Crust (Activate for Model 1)"
   ]
  },
  {
   "cell_type": "markdown",
   "metadata": {},
   "source": [
    "Because the composition of the continental crust changes with depth,\n",
    "an increase in density is expected toward the Moho. The continental crust can become granulitic under specific Temperature and strain rate conditions (see below). The reference density for the continental crust is 2600 kg.m−3 and the granulitic continental crust is 2950 kg.m−3. The conditions for model 1 include a total RHP of 2.0922 microW.m-3 with high RHP in the upper crust (5e-6 W.m-3) that decreases exponentially with a length scale factor hc of 20 km, yielding an initial Moho temperature at 35 km depth of 650°C."
   ]
  },
  {
   "cell_type": "code",
   "execution_count": null,
   "metadata": {},
   "outputs": [],
   "source": [
    "#continentalcrustL1 = Model.add_material(name=\"Continental Crust Layer1\", shape=GEO.shapes.Layer(top=0. * u.kilometer, bottom=-5.5 * u.kilometer))\n",
    "#continentalcrustL1.radiogenicHeatProd = 5.20000000e-06  * u.watt / u.meter**3\n",
    "#continentalcrustL1.density  = GEO.LinearDensity(reference_density  = 2600. * u.kilogram / u.metre**3)"
   ]
  },
  {
   "cell_type": "code",
   "execution_count": null,
   "metadata": {},
   "outputs": [],
   "source": [
    "#continentalcrustL2 = Model.add_material(name=\"Continental Crust Layer2\", shape=GEO.shapes.Layer(top=-5.5 * u.kilometer, bottom=-11. * u.kilometer))\n",
    "#continentalcrustL2.radiogenicHeatProd = 3.62791690e-06  * u.watt / u.meter**3\n",
    "#continentalcrustL2.density  = GEO.LinearDensity(reference_density  = 2600. * u.kilogram / u.metre**3)"
   ]
  },
  {
   "cell_type": "code",
   "execution_count": null,
   "metadata": {},
   "outputs": [],
   "source": [
    "#continentalcrustL3 = Model.add_material(name=\"Continental Crust Layer3\", shape=GEO.shapes.Layer(top=-11. * u.kilometer, bottom=-16.5 * u.kilometer))\n",
    "#continentalcrustL3.radiogenicHeatProd = 2.53111173e-06  * u.watt / u.meter**3\n",
    "#continentalcrustL3.density  = GEO.LinearDensity(reference_density  = 2600. * u.kilogram / u.metre**3)"
   ]
  },
  {
   "cell_type": "code",
   "execution_count": null,
   "metadata": {},
   "outputs": [],
   "source": [
    "#continentalcrustL4 = Model.add_material(name=\"Continental Crust Layer4\", shape=GEO.shapes.Layer(top=-16.5 * u.kilometer, bottom=-22. * u.kilometer))\n",
    "#continentalcrustL4.radiogenicHeatProd = 1.76589673e-06  * u.watt / u.meter**3\n",
    "#continentalcrustL4.density  = GEO.LinearDensity(reference_density  = 2600. * u.kilogram / u.metre**3)"
   ]
  },
  {
   "cell_type": "code",
   "execution_count": null,
   "metadata": {},
   "outputs": [],
   "source": [
    "#continentalcrustL5 = Model.add_material(name=\"Continental Crust Layer5\", shape=GEO.shapes.Layer(top=-22. * u.kilometer, bottom=-27.5 * u.kilometer))\n",
    "#continentalcrustL5.radiogenicHeatProd = 1.23202435e-06  * u.watt / u.meter**3\n",
    "#continentalcrustL5.density  = GEO.LinearDensity(reference_density  = 2600. * u.kilogram / u.metre**3)"
   ]
  },
  {
   "cell_type": "code",
   "execution_count": null,
   "metadata": {},
   "outputs": [],
   "source": [
    "#continentalcrustL6 = Model.add_material(name=\"Continental Crust Layer6\", shape=GEO.shapes.Layer(top=-27.5 * u.kilometer, bottom=-33. * u.kilometer))\n",
    "#continentalcrustL6.radiogenicHeatProd = 8.59554219e-07  * u.watt / u.meter**3\n",
    "#continentalcrustL6.density  = GEO.LinearDensity(reference_density  = 2600. * u.kilogram / u.metre**3)"
   ]
  },
  {
   "cell_type": "code",
   "execution_count": null,
   "metadata": {},
   "outputs": [],
   "source": [
    "#retrogressedcontinentalcrust = Model.add_material(name=\"Retrogressed Continental Crust\")\n",
    "#retrogressedcontinentalcrust.radiogenicHeatProd = 1.0483e-06 * u.watt / u.meter**3\n",
    "#retrogressedcontinentalcrust.density  = GEO.LinearDensity(reference_density  = 2600. * u.kilogram / u.metre**3)"
   ]
  },
  {
   "cell_type": "code",
   "execution_count": null,
   "metadata": {},
   "outputs": [],
   "source": [
    "#granuliticcontinentalcrust = Model.add_material(name=\"Granulite Continental Crust\")\n",
    "#granuliticcontinentalcrust.radiogenicHeatProd = 1.0483e-06 * u.watt / u.meter**3\n",
    "#granuliticcontinentalcrust.density  = GEO.LinearDensity(reference_density  = 2950. * u.kilogram / u.metre**3)"
   ]
  },
  {
   "cell_type": "markdown",
   "metadata": {},
   "source": [
    "### Continental Crust (Activate for Model 2)"
   ]
  },
  {
   "cell_type": "markdown",
   "metadata": {},
   "source": [
    "Because the composition of the continental crust changes with depth,\n",
    "an increase in density is expected toward the Moho. The continental crust can become granulitic under specific Temperature and strain rate conditions (see below). The reference density for the continental crust is 2600 kg.m−3 and the granulitic continental crust is 2950 kg.m−3. The conditions for Model 2 have a uniform continental crust RHP (1.0483 microW.m-3), yielding an initial Moho temperature of 650°C at 40 km depth."
   ]
  },
  {
   "cell_type": "code",
   "execution_count": null,
   "metadata": {},
   "outputs": [],
   "source": [
    "continentalcrustL1 = Model.add_material(name=\"Continental Crust Layer1\", shape=GEO.shapes.Layer(top=0. * u.kilometer, bottom=-4 * u.kilometer))\n",
    "continentalcrustL1.radiogenicHeatProd = 1.0483e-06  * u.watt / u.meter**3\n",
    "continentalcrustL1.density  = GEO.LinearDensity(reference_density  = 2600. * u.kilogram / u.metre**3)"
   ]
  },
  {
   "cell_type": "code",
   "execution_count": null,
   "metadata": {},
   "outputs": [],
   "source": [
    "continentalcrustL2 = Model.add_material(name=\"Continental Crust Layer2\", shape=GEO.shapes.Layer(top=-4 * u.kilometer, bottom=-12. * u.kilometer))\n",
    "continentalcrustL2.radiogenicHeatProd = 1.0483e-06  * u.watt / u.meter**3\n",
    "continentalcrustL2.density  = GEO.LinearDensity(reference_density  = 2600. * u.kilogram / u.metre**3)"
   ]
  },
  {
   "cell_type": "code",
   "execution_count": null,
   "metadata": {},
   "outputs": [],
   "source": [
    "continentalcrustL3 = Model.add_material(name=\"Continental Crust Layer3\", shape=GEO.shapes.Layer(top=-12. * u.kilometer, bottom=-20 * u.kilometer))\n",
    "continentalcrustL3.radiogenicHeatProd = 1.0483e-06  * u.watt / u.meter**3\n",
    "continentalcrustL3.density  = GEO.LinearDensity(reference_density  = 2600. * u.kilogram / u.metre**3)"
   ]
  },
  {
   "cell_type": "code",
   "execution_count": null,
   "metadata": {},
   "outputs": [],
   "source": [
    "continentalcrustL4 = Model.add_material(name=\"Continental Crust Layer4\", shape=GEO.shapes.Layer(top=-20 * u.kilometer, bottom=-28. * u.kilometer))\n",
    "continentalcrustL4.radiogenicHeatProd = 1.0483e-06  * u.watt / u.meter**3\n",
    "continentalcrustL4.density  = GEO.LinearDensity(reference_density  = 2600. * u.kilogram / u.metre**3)"
   ]
  },
  {
   "cell_type": "code",
   "execution_count": null,
   "metadata": {},
   "outputs": [],
   "source": [
    "continentalcrustL5 = Model.add_material(name=\"Continental Crust Layer5\", shape=GEO.shapes.Layer(top=-28. * u.kilometer, bottom=-36 * u.kilometer))\n",
    "continentalcrustL5.radiogenicHeatProd = 1.0483e-06  * u.watt / u.meter**3\n",
    "continentalcrustL5.density  = GEO.LinearDensity(reference_density  = 2600. * u.kilogram / u.metre**3)"
   ]
  },
  {
   "cell_type": "code",
   "execution_count": null,
   "metadata": {},
   "outputs": [],
   "source": [
    "continentalcrustL6 = Model.add_material(name=\"Continental Crust Layer6\", shape=GEO.shapes.Layer(top=-36 * u.kilometer, bottom=-40. * u.kilometer))\n",
    "continentalcrustL6.radiogenicHeatProd = 1.0483e-06  * u.watt / u.meter**3\n",
    "continentalcrustL6.density  = GEO.LinearDensity(reference_density  = 2600. * u.kilogram / u.metre**3)"
   ]
  },
  {
   "cell_type": "code",
   "execution_count": null,
   "metadata": {},
   "outputs": [],
   "source": [
    "retrogressedcontinentalcrust = Model.add_material(name=\"Retrogressed Continental Crust\")\n",
    "retrogressedcontinentalcrust.radiogenicHeatProd = 1.0483e-06 * u.watt / u.meter**3\n",
    "retrogressedcontinentalcrust.density  = GEO.LinearDensity(reference_density  = 2600. * u.kilogram / u.metre**3)"
   ]
  },
  {
   "cell_type": "code",
   "execution_count": null,
   "metadata": {},
   "outputs": [],
   "source": [
    "granuliticcontinentalcrust = Model.add_material(name=\"Granulite Continental Crust\")\n",
    "granuliticcontinentalcrust.radiogenicHeatProd = 1.0483e-06 * u.watt / u.meter**3\n",
    "granuliticcontinentalcrust.density  = GEO.LinearDensity(reference_density  = 2950. * u.kilogram / u.metre**3)"
   ]
  },
  {
   "cell_type": "markdown",
   "metadata": {},
   "source": [
    "### Upper-Mantle\n",
    "\n",
    "At room conditions, the density of the mantle is 3370kgm−3 and has a coefficient of thermal expansion of 2.8·10−5 K−1"
   ]
  },
  {
   "cell_type": "code",
   "execution_count": null,
   "metadata": {},
   "outputs": [],
   "source": [
    "## ACTIVATE FOR MODEL 1\n",
    "#uppermantle = Model.add_material(name=\"Upper Mantle\", shape=GEO.shapes.Layer(top=-33. * u.kilometer, bottom=Model.bottom))\n",
    "#uppermantle.density = GEO.LinearDensity(reference_density=3370. * u.kilogram / u.metre**3,\n",
    "#                                        thermalExpansivity= 2.8e-5 * u.kelvin**-1)"
   ]
  },
  {
   "cell_type": "code",
   "execution_count": null,
   "metadata": {},
   "outputs": [],
   "source": [
    "## ACTIVATE FOR MODEL 2\n",
    "uppermantle = Model.add_material(name=\"Upper Mantle\", shape=GEO.shapes.Layer(top=-40. * u.kilometer, bottom=Model.bottom))\n",
    "uppermantle.density = GEO.LinearDensity(reference_density=3370. * u.kilogram / u.metre**3,\n",
    "                                        thermalExpansivity= 2.8e-5 * u.kelvin**-1)"
   ]
  },
  {
   "cell_type": "markdown",
   "metadata": {},
   "source": [
    "### Visualisation of initial conditions"
   ]
  },
  {
   "cell_type": "code",
   "execution_count": null,
   "metadata": {},
   "outputs": [],
   "source": [
    "FigMat = vis.Figure(figsize=(1200,400))\n",
    "FigMat.Points(Model.swarm, Model.materialField, fn_size=2.0)\n",
    "FigMat.show()"
   ]
  },
  {
   "cell_type": "markdown",
   "metadata": {},
   "source": [
    "# Define Viscosities\n",
    "\n",
    "The crust and the mantle have a visco-plastic rheology with a\n",
    "temperature and stress dependent viscosity for stresses below the yield stress,\n",
    "and a depth dependent plastic branch above it.\n",
    "We use power law relationships between strain rate and stress\n",
    "to describe dislocation creep. \n",
    "\n",
    "The viscosity varies with the temperature and stress according to:\n",
    "\n",
    "crust, A, n and Q are those of quartz-rich rock (pre-exponent Ac=6.6·10−8 MPa−nc\n",
    "s−1, nc=3.1, Qc=135·10e3 Jmol−1, Paterson and Luan, 1990).  The rheology of granulitic continental crust is from Mackwell et al., 1998 (pre-exponent Ac=5.05·10−22 MPa−nc s−1, nc=4.7, Qc=4.85·10e5 Jmol−1). The rheology of the mantle has been simplified and is considered isoviscous (5·10e21 Pa.s)"
   ]
  },
  {
   "cell_type": "code",
   "execution_count": null,
   "metadata": {},
   "outputs": [],
   "source": [
    "rh = GEO.ViscousCreepRegistry()\n",
    "\n",
    "Model.minViscosity = 1e18 * u.pascal * u.second\n",
    "Model.maxViscosity = 1e23 * u.pascal * u.second\n",
    "\n",
    "air.viscosity = 5e18 * u.pascal * u.second\n",
    "continentalcrustL1.viscosity = rh.Wet_Quartz_Dislocation_Paterson_and_Luan_1990\n",
    "continentalcrustL2.viscosity = rh.Wet_Quartz_Dislocation_Paterson_and_Luan_1990\n",
    "continentalcrustL3.viscosity = rh.Wet_Quartz_Dislocation_Paterson_and_Luan_1990\n",
    "continentalcrustL4.viscosity = rh.Wet_Quartz_Dislocation_Paterson_and_Luan_1990\n",
    "continentalcrustL5.viscosity = rh.Wet_Quartz_Dislocation_Paterson_and_Luan_1990\n",
    "continentalcrustL6.viscosity = rh.Wet_Quartz_Dislocation_Paterson_and_Luan_1990\n",
    "retrogressedcontinentalcrust.viscosity = rh.Wet_Quartz_Dislocation_Paterson_and_Luan_1990\n",
    "granuliticcontinentalcrust.viscosity = rh.Dry_Maryland_Diabase_Dislocation_Mackwell_et_al_1998\n",
    "uppermantle.viscosity = 5e21 * u.pascal * u.second\n",
    "sediment.viscosity         = rh.Wet_Quartz_Dislocation_Gleason_and_Tullis_1995"
   ]
  },
  {
   "cell_type": "markdown",
   "metadata": {},
   "source": [
    "In the crust and the mantle, frictional sliding is modeled via a Mohr\n",
    "Coulomb criterion with a cohesion (C0) of 15 MPa and a coefficient of friction (µ) of 0.44. In all material, the yield stress linearly drops to a maximum of 20% of its initial value when the accumulated strain reaches 0.5 (cf.Wijns et al., 2005 for details). For differential stresses reaching the yield stress, the material fails and deformation is modeled by an effective viscosity: ηyield=τyield/(2 · E) in which E is the second invariant of the strain rate tensor. "
   ]
  },
  {
   "cell_type": "code",
   "execution_count": null,
   "metadata": {},
   "outputs": [],
   "source": [
    "continentalcrustL1.plasticity = GEO.DruckerPrager(name=\"Continental Crust\",\n",
    "                                                cohesion=15. * u.megapascal,\n",
    "                                                cohesionAfterSoftening=3. * u.megapascal,\n",
    "                                                frictionCoefficient=0.44,\n",
    "                                                frictionAfterSoftening=0.088,\n",
    "                                                epsilon1=0.0, epsilon2=0.5)\n",
    "continentalcrustL1.stressLimiter = 150 * u.megapascal\n",
    "\n",
    "continentalcrustL2.plasticity = GEO.DruckerPrager(name=\"Continental Crust\",\n",
    "                                                cohesion=15. * u.megapascal,\n",
    "                                                cohesionAfterSoftening=3. * u.megapascal,\n",
    "                                                frictionCoefficient=0.44,\n",
    "                                                frictionAfterSoftening=0.088,\n",
    "                                                epsilon1=0.0, epsilon2=0.5)\n",
    "continentalcrustL2.stressLimiter = 150 * u.megapascal\n",
    "\n",
    "continentalcrustL3.plasticity = GEO.DruckerPrager(name=\"Continental Crust\",\n",
    "                                                cohesion=15. * u.megapascal,\n",
    "                                                cohesionAfterSoftening=3. * u.megapascal,\n",
    "                                                frictionCoefficient=0.44,\n",
    "                                                frictionAfterSoftening=0.088,\n",
    "                                                epsilon1=0.0, epsilon2=0.5)\n",
    "continentalcrustL3.stressLimiter = 150 * u.megapascal\n",
    "\n",
    "continentalcrustL4.plasticity = GEO.DruckerPrager(name=\"Continental Crust\",\n",
    "                                                cohesion=15. * u.megapascal,\n",
    "                                                cohesionAfterSoftening=3. * u.megapascal,\n",
    "                                                frictionCoefficient=0.44,\n",
    "                                                frictionAfterSoftening=0.088,\n",
    "                                                epsilon1=0.0, epsilon2=0.5)\n",
    "continentalcrustL4.stressLimiter = 150 * u.megapascal\n",
    "\n",
    "continentalcrustL5.plasticity = GEO.DruckerPrager(name=\"Continental Crust\",\n",
    "                                                cohesion=15. * u.megapascal,\n",
    "                                                cohesionAfterSoftening=3. * u.megapascal,\n",
    "                                                frictionCoefficient=0.44,\n",
    "                                                frictionAfterSoftening=0.088,\n",
    "                                                epsilon1=0.0, epsilon2=0.5)\n",
    "continentalcrustL5.stressLimiter = 150 * u.megapascal\n",
    "\n",
    "continentalcrustL6.plasticity = GEO.DruckerPrager(name=\"Continental Crust\",\n",
    "                                                cohesion=15. * u.megapascal,\n",
    "                                                cohesionAfterSoftening=3. * u.megapascal,\n",
    "                                                frictionCoefficient=0.44,\n",
    "                                                frictionAfterSoftening=0.088,\n",
    "                                                epsilon1=0.0, epsilon2=0.5)\n",
    "continentalcrustL6.stressLimiter = 150 * u.megapascal\n",
    "\n",
    "retrogressedcontinentalcrust.plasticity = GEO.DruckerPrager(name=\"Continental Crust\",\n",
    "                                                cohesion=15. * u.megapascal,\n",
    "                                                cohesionAfterSoftening=3. * u.megapascal,\n",
    "                                                frictionCoefficient=0.44,\n",
    "                                                frictionAfterSoftening=0.088,\n",
    "                                                epsilon1=0.0, epsilon2=0.5)\n",
    "retrogressedcontinentalcrust.stressLimiter = 150 * u.megapascal\n",
    "\n",
    "granuliticcontinentalcrust.plasticity = GEO.DruckerPrager(name=\"Continental Crust\",\n",
    "                                                cohesion=15. * u.megapascal,\n",
    "                                                cohesionAfterSoftening=3. * u.megapascal,\n",
    "                                                frictionCoefficient=0.44,\n",
    "                                                frictionAfterSoftening=0.088,\n",
    "                                                epsilon1=0.0, epsilon2=0.5)\n",
    "granuliticcontinentalcrust.stressLimiter = 150 * u.megapascal\n",
    "\n",
    "uppermantle.plasticity = GEO.DruckerPrager(name=\"Continental Crust\",\n",
    "                                           cohesion=15. * u.megapascal,\n",
    "                                           cohesionAfterSoftening=3. * u.megapascal,\n",
    "                                           frictionCoefficient=0.44,\n",
    "                                           frictionAfterSoftening=0.088,\n",
    "                                           epsilon1=0.0, epsilon2=0.5)\n",
    "uppermantle.stressLimiter = 100 * u.megapascal\n",
    "\n",
    "sediment.plasticity = GEO.DruckerPrager(cohesion=20.0 * u.megapascal,\n",
    "                               cohesionAfterSoftening=20 * u.megapascal,\n",
    "                               frictionCoefficient=0.12,\n",
    "                               frictionAfterSoftening=0.02,\n",
    "                               epsilon1=0.5,\n",
    "                               epsilon2=1.5)\n",
    "sediment.stressLimiter = 100 * u.megapascal"
   ]
  },
  {
   "cell_type": "markdown",
   "metadata": {},
   "source": [
    "## Melt"
   ]
  },
  {
   "cell_type": "code",
   "execution_count": null,
   "metadata": {},
   "outputs": [],
   "source": [
    "solidii = GEO.SolidusRegistry()\n",
    "my_crust_solidus = GEO.Solidus(A1=923 * u.kelvin, A2=-1.2e-07 * u.kelvin / u.pascal, A3=1.2e-16 * u.kelvin / u.pascal**2, A4=0.0 * u.kelvin / u.pascal**3)\n",
    "mid_crust_solidus = GEO.Solidus(A1=1263 * u.kelvin, A2=-1.2e-07 * u.kelvin / u.pascal, A3=1.2e-16 * u.kelvin / u.pascal**2, A4=0.0 * u.kelvin / u.pascal**3)\n",
    "\n",
    "liquidii = GEO.LiquidusRegistry()\n",
    "my_crust_liquidus = GEO.Liquidus(A1=1423 * u.kelvin, A2=-1.2e-07 * u.kelvin / u.pascal, A3=1.6e-16 * u.kelvin / u.pascal**2, A4=0.0 * u.kelvin / u.pascal**3)\n",
    "mid_crust_liquidus = GEO.Liquidus(A1=1763 * u.kelvin, A2=-1.2e-07 * u.kelvin / u.pascal, A3=1.6e-16 * u.kelvin / u.pascal**2, A4=0.0 * u.kelvin / u.pascal**3)"
   ]
  },
  {
   "cell_type": "markdown",
   "metadata": {},
   "source": [
    "In our experiments, the viscosity decreases linearly by 3 orders of magnitude when the melt fraction increases from 15 to 30%. When the melt fraction is 15%, the viscosity of the melted crust is that of the non-melted surrounding; when the melt fraction is 30%, its viscosity is a thousand times lower than in surrounding material. Rosenberg and Handy (2005) showed that significant weakening occurs at 7% melt fraction."
   ]
  },
  {
   "cell_type": "code",
   "execution_count": null,
   "metadata": {},
   "outputs": [],
   "source": [
    "continentalcrustL1.add_melt_modifier(my_crust_solidus, my_crust_liquidus, \n",
    "                         latentHeatFusion=250.0 * u.kilojoules / u.kilogram / u.kelvin,\n",
    "                         meltFraction=0.,\n",
    "                         meltFractionLimit=0.3,\n",
    "                         meltExpansion=0.13, \n",
    "                         viscosityChangeX1 = 0.15,\n",
    "                         viscosityChangeX2 = 0.30,\n",
    "                         viscosityChange = 1e-3\n",
    "                        )\n",
    "\n",
    "continentalcrustL2.add_melt_modifier(my_crust_solidus, my_crust_liquidus, \n",
    "                         latentHeatFusion=250.0 * u.kilojoules / u.kilogram / u.kelvin,\n",
    "                         meltFraction=0.,\n",
    "                         meltFractionLimit=0.3,\n",
    "                         meltExpansion=0.13, \n",
    "                         viscosityChangeX1 = 0.15,\n",
    "                         viscosityChangeX2 = 0.30,\n",
    "                         viscosityChange = 1e-3\n",
    "                        )\n",
    "\n",
    "continentalcrustL3.add_melt_modifier(my_crust_solidus, my_crust_liquidus, \n",
    "                         latentHeatFusion=250.0 * u.kilojoules / u.kilogram / u.kelvin,\n",
    "                         meltFraction=0.,\n",
    "                         meltFractionLimit=0.3,\n",
    "                         meltExpansion=0.13, \n",
    "                         viscosityChangeX1 = 0.15,\n",
    "                         viscosityChangeX2 = 0.30,\n",
    "                         viscosityChange = 1e-3\n",
    "                        )\n",
    "\n",
    "continentalcrustL4.add_melt_modifier(my_crust_solidus, my_crust_liquidus, \n",
    "                         latentHeatFusion=250.0 * u.kilojoules / u.kilogram / u.kelvin,\n",
    "                         meltFraction=0.,\n",
    "                         meltFractionLimit=0.3,\n",
    "                         meltExpansion=0.13, \n",
    "                         viscosityChangeX1 = 0.15,\n",
    "                         viscosityChangeX2 = 0.30,\n",
    "                         viscosityChange = 1e-3\n",
    "                        )\n",
    "\n",
    "continentalcrustL5.add_melt_modifier(my_crust_solidus, my_crust_liquidus, \n",
    "                         latentHeatFusion=250.0 * u.kilojoules / u.kilogram / u.kelvin,\n",
    "                         meltFraction=0.,\n",
    "                         meltFractionLimit=0.3,\n",
    "                         meltExpansion=0.13, \n",
    "                         viscosityChangeX1 = 0.15,\n",
    "                         viscosityChangeX2 = 0.30,\n",
    "                         viscosityChange = 1e-3\n",
    "                        )\n",
    "\n",
    "continentalcrustL6.add_melt_modifier(my_crust_solidus, my_crust_liquidus, \n",
    "                         latentHeatFusion=250.0 * u.kilojoules / u.kilogram / u.kelvin,\n",
    "                         meltFraction=0.,\n",
    "                         meltFractionLimit=0.3,\n",
    "                         meltExpansion=0.13, \n",
    "                         viscosityChangeX1 = 0.15,\n",
    "                         viscosityChangeX2 = 0.30,\n",
    "                         viscosityChange = 1e-3\n",
    "                        )\n",
    "\n",
    "retrogressedcontinentalcrust.add_melt_modifier(my_crust_solidus, my_crust_liquidus, \n",
    "                         latentHeatFusion=250.0 * u.kilojoules / u.kilogram / u.kelvin,\n",
    "                         meltFraction=0.,\n",
    "                         meltFractionLimit=0.3,\n",
    "                         meltExpansion=0.13, \n",
    "                         viscosityChangeX1 = 0.15,\n",
    "                         viscosityChangeX2 = 0.30,\n",
    "                         viscosityChange = 1e-3\n",
    "                        )\n",
    "\n",
    "granuliticcontinentalcrust.add_melt_modifier(mid_crust_solidus, mid_crust_liquidus, \n",
    "                         latentHeatFusion=250.0 * u.kilojoules / u.kilogram / u.kelvin,\n",
    "                         meltFraction=0.,\n",
    "                         meltFractionLimit=0.3,\n",
    "                         meltExpansion=0.13, \n",
    "                         viscosityChangeX1 = 0.15,\n",
    "                         viscosityChangeX2 = 0.30,\n",
    "                         viscosityChange = 1e-3\n",
    "                        )  "
   ]
  },
  {
   "cell_type": "markdown",
   "metadata": {},
   "source": [
    "## Temperature Boundary Condition\n",
    "The geotherm is based on a constant heat flow imposed at the base of the model (0.020 W m−2), a constant temperature imposed at the top (20 °C)."
   ]
  },
  {
   "cell_type": "code",
   "execution_count": null,
   "metadata": {},
   "outputs": [],
   "source": [
    "Model.set_temperatureBCs(top=293.15 * u.degK, materials=[(air, 293.15*u.degK)])"
   ]
  },
  {
   "cell_type": "code",
   "execution_count": null,
   "metadata": {},
   "outputs": [],
   "source": [
    "Model.set_heatFlowBCs(bottom=(0.020 * u.watt / u.metre**2, uppermantle))"
   ]
  },
  {
   "cell_type": "markdown",
   "metadata": {},
   "source": [
    "## Velocity Boundary Conditions (change according to model phase)"
   ]
  },
  {
   "cell_type": "code",
   "execution_count": null,
   "metadata": {},
   "outputs": [],
   "source": [
    "## ACTIVATE THIS CELL FOR PHASE 1 (SHORTENING) OF THE MODEL\n",
    "## CHOOSE TO RUN EITHER WITH SLOW OR FAST VELOCITY: during the shortening phase the crust thickens to ~ 60 km with either a slow total velocity of 0.24 cm.y-1 during 70 my or a fast total velocity of 2.4 cm.y-1 during ~ 7 my\n",
    "Model.set_velocityBCs(left=[2.4  * u.centimeter / u.year, 0 * u.centimeter / u.year],\n",
    "                       right=[-2.4  * u.centimeter / u.year, 0 * u.centimeter / u.year],\n",
    "                       bottom=GEO.LecodeIsostasy(reference_mat=uppermantle, average=False))"
   ]
  },
  {
   "cell_type": "code",
   "execution_count": null,
   "metadata": {},
   "outputs": [],
   "source": [
    "## ACTIVATE THIS CELL FOR PHASE 2 (DELAMINATION) OF THE MODEL\n",
    "#Model.set_velocityBCs(left=[0  * u.centimeter / u.year, 0 * u.centimeter / u.year],\n",
    "#                       right=[0  * u.centimeter / u.year, 0 * u.centimeter / u.year],\n",
    "#                       bottom=GEO.LecodeIsostasy(reference_mat=uppermantle, average=False))"
   ]
  },
  {
   "cell_type": "code",
   "execution_count": null,
   "metadata": {},
   "outputs": [],
   "source": [
    "## ACTIVATE THIS CELL FOR PHASE 3 (COLLAPSE) OF THE MODEL\n",
    "#Model.set_velocityBCs(left=[-0.10  * u.centimeter / u.year, 0 * u.centimeter / u.year],\n",
    "#                       right=[0.10  * u.centimeter / u.year, 0 * u.centimeter / u.year],\n",
    "#                       bottom=GEO.LecodeIsostasy(reference_mat=uppermantle, average=False))"
   ]
  },
  {
   "cell_type": "markdown",
   "metadata": {},
   "source": [
    "# Random initial plastic strain damage zone"
   ]
  },
  {
   "cell_type": "code",
   "execution_count": null,
   "metadata": {},
   "outputs": [],
   "source": [
    "def gaussian(xx, centre, width):\n",
    "    return ( np.exp( -(xx - centre)**2/width))\n",
    "\n",
    "maxDamage = 0.2\n",
    "centre = (GEO.nd(240. * u.kilometer), GEO.nd(-40. * u.kilometer))\n",
    "width = GEO.nd(150. * u.kilometer) \n",
    "\n",
    "Model.plasticStrain.data[:] = maxDamage * np.random.rand(*Model.plasticStrain.data.shape[:])\n",
    "Model.plasticStrain.data[:,0] *= gaussian(Model.swarm.particleCoordinates.data[:,0], centre[0], width)\n",
    "Model.plasticStrain.data[:,0] *= gaussian(Model.swarm.particleCoordinates.data[:,1], centre[1], width*100)\n",
    "\n",
    "air_mask = Model.swarm.particleCoordinates.data[:,1] > GEO.nd(0 * u.kilometer)\n",
    "\n",
    "Model.plasticStrain.data[air_mask] = 0.0"
   ]
  },
  {
   "cell_type": "code",
   "execution_count": null,
   "metadata": {},
   "outputs": [],
   "source": [
    "Fig = vis.Figure(figsize=(1200, 400))\n",
    "Fig.Points(Model.swarm, Model.plasticStrain, fn_size=4.0)\n",
    "Fig.show()"
   ]
  },
  {
   "cell_type": "markdown",
   "metadata": {},
   "source": [
    "# Surface processes"
   ]
  },
  {
   "cell_type": "code",
   "execution_count": null,
   "metadata": {},
   "outputs": [],
   "source": [
    "Model.surfaceProcesses = GEO.surfaceProcesses.SedimentationThreshold(air=[air], sediment=[sediment], threshold=0. * u.metre)"
   ]
  },
  {
   "cell_type": "code",
   "execution_count": null,
   "metadata": {},
   "outputs": [],
   "source": [
    "Model.surfaceProcesses = GEO.surfaceProcesses.ErosionThreshold(air=[air], threshold=4000. * u.metre)"
   ]
  },
  {
   "cell_type": "markdown",
   "metadata": {},
   "source": [
    "## Interface Tracers"
   ]
  },
  {
   "cell_type": "code",
   "execution_count": null,
   "metadata": {},
   "outputs": [],
   "source": [
    "npoints_surface = 1000\n",
    "coords_surface = np.ndarray((npoints_surface, 2))\n",
    "coords_surface[:, 0] = np.linspace(GEO.nd(Model.minCoord[0]), GEO.nd(Model.maxCoord[0]), npoints_surface)\n",
    "coords_surface[:, 1] = GEO.nd(0. * u.kilometre)\n",
    "Model.add_passive_tracers(name=\"Surface\", vertices=coords_surface)"
   ]
  },
  {
   "cell_type": "code",
   "execution_count": null,
   "metadata": {},
   "outputs": [],
   "source": [
    "## ACTIVATE FOR MODEL 1\n",
    "#npoints_moho = 1000\n",
    "#coords_moho = np.ndarray((npoints_moho, 2))\n",
    "#coords_moho[:, 0] = np.linspace(GEO.nd(Model.minCoord[0]), GEO.nd(Model.maxCoord[0]), npoints_moho)\n",
    "#coords_moho[:, 1] = GEO.nd(0. * u.kilometre) - GEO.nd(33.* u.kilometre)\n",
    "#moho_tracers = Model.add_passive_tracers(name=\"Moho\", vertices=coords_moho)"
   ]
  },
  {
   "cell_type": "code",
   "execution_count": null,
   "metadata": {},
   "outputs": [],
   "source": [
    "## ACTIVATE FOR MODEL 2\n",
    "npoints_moho = 1000\n",
    "coords_moho = np.ndarray((npoints_moho, 2))\n",
    "coords_moho[:, 0] = np.linspace(GEO.nd(Model.minCoord[0]), GEO.nd(Model.maxCoord[0]), npoints_moho)\n",
    "coords_moho[:, 1] = GEO.nd(0. * u.kilometre) - GEO.nd(40.* u.kilometre)\n",
    "Model.add_passive_tracers(name=\"Moho\", vertices=coords_moho)"
   ]
  },
  {
   "cell_type": "markdown",
   "metadata": {},
   "source": [
    "## Grid Tracers"
   ]
  },
  {
   "cell_type": "code",
   "execution_count": null,
   "metadata": {},
   "outputs": [],
   "source": [
    "coords_FSE_Crust = GEO.circles_grid(radius = 2.0 * u.kilometer,\n",
    "                           minCoord=[Model.minCoord[0], continentalcrustL6.bottom],\n",
    "                           maxCoord=[Model.maxCoord[0], 0.*u.kilometer])\n",
    "\n",
    "Model.add_passive_tracers(name=\"FSE_Crust\", vertices=coords_FSE_Crust)"
   ]
  },
  {
   "cell_type": "markdown",
   "metadata": {},
   "source": [
    "# Lagrangian Grid"
   ]
  },
  {
   "cell_type": "code",
   "execution_count": null,
   "metadata": {},
   "outputs": [],
   "source": [
    "## ACTIVATE FOR MODEL 1\n",
    "#cxpos = np.linspace(GEO.nd(10*u.kilometer), GEO.nd(710*u.kilometer),40)\n",
    "#cypos = np.linspace(GEO.nd(-30*u.kilometer), GEO.nd(-5*u.kilometer),5)\n",
    "#cxpos, cypos = np.meshgrid(cxpos, cypos)\n",
    "#coords_centroid = np.ndarray((cxpos.size, 2))\n",
    "#coords_centroid[:, 0] = cxpos.ravel()\n",
    "#coords_centroid[:, 1] = cypos.ravel()\n",
    " \n",
    "#coords = np.zeros((1, 2))\n",
    "#Lag_Grid = Model.add_passive_tracers(name=\"Lag_grid\", vertices=coords,\n",
    "#                                      centroids=coords_centroid)"
   ]
  },
  {
   "cell_type": "code",
   "execution_count": null,
   "metadata": {},
   "outputs": [],
   "source": [
    "## ACTIVATE FOR MODEL 2\n",
    "cxpos = np.linspace(GEO.nd(10*u.kilometer), GEO.nd(710*u.kilometer),40)\n",
    "cypos = np.linspace(GEO.nd(-37*u.kilometer), GEO.nd(-5*u.kilometer),5)\n",
    "cxpos, cypos = np.meshgrid(cxpos, cypos)\n",
    "coords_centroid = np.ndarray((cxpos.size, 2))\n",
    "coords_centroid[:, 0] = cxpos.ravel()\n",
    "coords_centroid[:, 1] = cypos.ravel()\n",
    " \n",
    "coords = np.zeros((1, 2))\n",
    "Model.add_passive_tracers(name=\"Lag_Grid\", vertices=coords,\n",
    "                                      centroids=coords_centroid)"
   ]
  },
  {
   "cell_type": "code",
   "execution_count": null,
   "metadata": {},
   "outputs": [],
   "source": [
    "FigMat = vis.Figure(figsize=(1200,400))\n",
    "FigMat.Points(Model.Lag_Grid_tracers, pointSize=12.0, colour=\"red\")\n",
    "FigMat.Points(Model.Surface_tracers, pointSize=4.0)\n",
    "FigMat.Points(Model.Moho_tracers, pointSize=4.0)\n",
    "FigMat.Points(Model.FSE_Crust_tracers, pointSize=2.0)\n",
    "FigMat.Points(Model.swarm, Model.materialField, fn_size=2.0)\n",
    "FigMat.show()"
   ]
  },
  {
   "cell_type": "code",
   "execution_count": null,
   "metadata": {},
   "outputs": [],
   "source": [
    "Model.Lag_Grid_tracers.add_tracked_field(Model.temperature, name=\"LagGridTemp\", units=u.degK, dataType=\"float\")\n",
    "Model.Lag_Grid_tracers.add_tracked_field(Model.pressureField, name=\"LagGridPress\", units=u.megapascal, dataType=\"float\")\n",
    "Model.Lag_Grid_tracers.add_tracked_field(Model.strainRate_2ndInvariant, name=\"LagGridStrainRate\", units= u.second**-1, dataType=\"float\")\n",
    "Model.Lag_Grid_tracers.add_tracked_field(Model.viscosityField, name=\"LagGridViscosity\", units=u.pascal * u.second, dataType=\"float\")\n",
    "Model.Lag_Grid_tracers.add_tracked_field(Model.projTimeField, name=\"LagGridTimeField\", units=u.year, dataType=\"float\")\n",
    "Model.Lag_Grid_tracers.add_tracked_field(Model.materialField, name=\"LagGridMaterialField\", units=u.mol, dataType=\"float\")\n",
    "Model.Lag_Grid_tracers.add_tracked_field(Model.meltField, name=\"LagGridMeltField\", units=u.mol, dataType=\"float\")"
   ]
  },
  {
   "cell_type": "markdown",
   "metadata": {},
   "source": [
    "# Activate if this script needs to run in parallel"
   ]
  },
  {
   "cell_type": "code",
   "execution_count": null,
   "metadata": {},
   "outputs": [],
   "source": [
    "#Model.swarm.allow_parallel_nn = True"
   ]
  },
  {
   "cell_type": "markdown",
   "metadata": {},
   "source": [
    "## Run Model"
   ]
  },
  {
   "cell_type": "code",
   "execution_count": null,
   "metadata": {
    "tags": []
   },
   "outputs": [],
   "source": [
    "Model.init_model(temperature=\"steady-state\")"
   ]
  },
  {
   "cell_type": "code",
   "execution_count": null,
   "metadata": {},
   "outputs": [],
   "source": [
    "GEO.nd(500*u.kelvin)"
   ]
  },
  {
   "cell_type": "markdown",
   "metadata": {},
   "source": [
    "# Phase change algorithm"
   ]
  },
  {
   "cell_type": "code",
   "execution_count": null,
   "metadata": {},
   "outputs": [],
   "source": [
    "continentalcrustL1.phase_changes = GEO.PhaseChange((Model.temperature > GEO.nd(1050*u.kelvin)), granuliticcontinentalcrust.index)\n",
    "continentalcrustL2.phase_changes = GEO.PhaseChange((Model.temperature > GEO.nd(1050*u.kelvin)), granuliticcontinentalcrust.index)\n",
    "continentalcrustL3.phase_changes = GEO.PhaseChange((Model.temperature > GEO.nd(1050*u.kelvin)), granuliticcontinentalcrust.index)\n",
    "continentalcrustL4.phase_changes = GEO.PhaseChange((Model.temperature > GEO.nd(1050*u.kelvin)), granuliticcontinentalcrust.index)\n",
    "continentalcrustL5.phase_changes = GEO.PhaseChange((Model.temperature > GEO.nd(1050*u.kelvin)), granuliticcontinentalcrust.index)\n",
    "continentalcrustL6.phase_changes = GEO.PhaseChange((Model.temperature > GEO.nd(1050*u.kelvin)), granuliticcontinentalcrust.index)\n",
    "retrogressedcontinentalcrust.phase_changes = GEO.PhaseChange((Model.temperature > GEO.nd(1050*u.kelvin)), granuliticcontinentalcrust.index)\n"
   ]
  },
  {
   "cell_type": "code",
   "execution_count": null,
   "metadata": {},
   "outputs": [],
   "source": [
    "granuliticcontinentalcrust.phase_changes = GEO.PhaseChange(\n",
    "   ((Model.temperature < GEO.nd(1050*u.kelvin)) & (Model.strainRate_2ndInvariant > GEO.nd(1e-14*u.sec**-1))),\n",
    "    retrogressedcontinentalcrust.index)"
   ]
  },
  {
   "cell_type": "markdown",
   "metadata": {},
   "source": [
    "# Initial conditions figures"
   ]
  },
  {
   "cell_type": "code",
   "execution_count": null,
   "metadata": {},
   "outputs": [],
   "source": [
    "FigDensity = vis.Figure(figsize=(1200,400))\n",
    "FigDensity.Points(Model.swarm, GEO.dimensionalise(Model.densityField, u.kilogram / u.meter ** 3))\n",
    "FigDensity.show()"
   ]
  },
  {
   "cell_type": "code",
   "execution_count": null,
   "metadata": {
    "tags": [
     "analysis"
    ]
   },
   "outputs": [],
   "source": [
    "FigTemp = vis.Figure(figsize=(1200,400))\n",
    "FigTemp.Surface(Model.mesh, GEO.dimensionalise(Model.temperature, u.degK), colours=\"coolwarm\")\n",
    "FigTemp.show()"
   ]
  },
  {
   "cell_type": "code",
   "execution_count": null,
   "metadata": {
    "tags": [
     "analysis"
    ]
   },
   "outputs": [],
   "source": [
    "FigPress = vis.Figure(figsize=(1200,400))\n",
    "FigPress.Surface(Model.mesh, GEO.dimensionalise(Model.pressureField, u.gigapascal))\n",
    "FigPress.show()"
   ]
  },
  {
   "cell_type": "code",
   "execution_count": null,
   "metadata": {},
   "outputs": [],
   "source": [
    "FigPress = vis.Figure(figsize=(1200,400))\n",
    "FigPress.Surface(Model.mesh, GEO.dimensionalise(Model.strainRateField, u.metre / u.second))\n",
    "FigPress.show()"
   ]
  },
  {
   "cell_type": "markdown",
   "metadata": {},
   "source": [
    "# Extract information"
   ]
  },
  {
   "cell_type": "markdown",
   "metadata": {},
   "source": [
    "### Temperature at the Moho\n",
    "\n",
    "<font color='red'>WARNING: The next cell is NOT PARALLEL SAFE and will results in an error if you try to run it on multiple CPUs. You MUST delete it before attempting to run the model in parallel. </font>"
   ]
  },
  {
   "cell_type": "code",
   "execution_count": null,
   "metadata": {},
   "outputs": [],
   "source": [
    "if GEO.uw.mpi == 1:\n",
    "\n",
    "   moho_average_temperature = Model.temperature.evaluate(Model.Moho_tracers).mean()\n",
    "   moho_average_temperature = GEO.dimensionalise(moho_average_temperature, u.degC)\n",
    "\n",
    "   print(\"Average Temperature at Moho: {0:5.0f}\".format(moho_average_temperature))"
   ]
  },
  {
   "cell_type": "code",
   "execution_count": null,
   "metadata": {},
   "outputs": [],
   "source": [
    "moho_average_temperature = Model.temperature.evaluate(Model.Moho_tracers).mean()"
   ]
  },
  {
   "cell_type": "code",
   "execution_count": null,
   "metadata": {},
   "outputs": [],
   "source": [
    "moho_average_temperature"
   ]
  },
  {
   "cell_type": "code",
   "execution_count": null,
   "metadata": {},
   "outputs": [],
   "source": [
    "moho_average_temperature = GEO.dimensionalise(moho_average_temperature, u.degC)"
   ]
  },
  {
   "cell_type": "code",
   "execution_count": null,
   "metadata": {},
   "outputs": [],
   "source": [
    "moho_average_temperature"
   ]
  },
  {
   "cell_type": "code",
   "execution_count": null,
   "metadata": {},
   "outputs": [],
   "source": [
    "print(\"Average Temperature at Moho: {0:5.0f}\".format(moho_average_temperature))"
   ]
  },
  {
   "cell_type": "markdown",
   "metadata": {},
   "source": [
    "<font color='red'>WARNING: The next cell is NOT PARALLEL SAFE and will results in an error if you try to run it on multiple CPUs. You MUST delete it before attempting to run the model in parallel. </font>"
   ]
  },
  {
   "cell_type": "code",
   "execution_count": null,
   "metadata": {
    "tags": [
     "analysis"
    ]
   },
   "outputs": [],
   "source": [
    "if GEO.uw.mpi.size == 1:\n",
    "    import matplotlib.pyplot as plt\n",
    "\n",
    "    distances, temperature = GEO.extract_profile(Model.temperature, line = [(180.* u.kilometer, 0.), (180.* u.kilometer, Model.bottom)])\n",
    "    distances, pressure = GEO.extract_profile(Model.pressureField, line = [(180.* u.kilometer, 0.), (180.* u.kilometer, Model.bottom)])\n",
    "\n",
    "    Fig, (ax1, ax2) = plt.subplots(1,2,figsize=(15,7))\n",
    "    ax1.plot(GEO.dimensionalise(temperature, u.degK), GEO.dimensionalise(distances, u.kilometer))\n",
    "    ax1.set_xlabel(\"Temperature in Kelvin\")\n",
    "    ax1.set_ylabel(\"Depth in kms\")\n",
    "    ax1.set_ylim(75, 0)\n",
    "    ax1.set_title(\"Temperature profile\")\n",
    "\n",
    "    ax2.plot(GEO.dimensionalise(pressure, u.megapascal), GEO.dimensionalise(distances, u.kilometer))\n",
    "    ax2.set_xlabel(\"Pressure in megapascal\")\n",
    "    ax2.set_ylabel(\"Depth in kms\")\n",
    "    ax2.set_title(\"Pressure profile\")\n",
    "    ax2.set_ylim(75, 0)\n",
    "    plt.show()"
   ]
  },
  {
   "cell_type": "markdown",
   "metadata": {},
   "source": [
    "## Visualise Solidus and Liquidus\n",
    "\n",
    "<font color='red'>WARNING: The next cell is NOT PARALLEL SAFE and will results in an error if you try to run it on multiple CPUs. You MUST delete it before attempting to run the model in parallel. </font>"
   ]
  },
  {
   "cell_type": "code",
   "execution_count": null,
   "metadata": {
    "tags": [
     "analysis"
    ]
   },
   "outputs": [],
   "source": [
    "if GEO.uw.mpi.size == 1:\n",
    "    T_s = my_crust_solidus.temperature(pressure)\n",
    "    T_l = my_crust_liquidus.temperature(pressure)\n",
    "    T_gs = mid_crust_solidus.temperature(pressure)\n",
    "    T_gl = mid_crust_liquidus.temperature(pressure)\n",
    "    depths = distances\n",
    "\n",
    "    import pylab as plt\n",
    "\n",
    "    fig = plt.figure(figsize=(8,4))\n",
    "    plt.plot(GEO.dimensionalise(T_s, u.degC),GEO.dimensionalise(depths, u.kilometer), label=\"T_s\")\n",
    "    plt.plot(GEO.dimensionalise(T_l, u.degC),GEO.dimensionalise(depths, u.kilometer), label=\"T_l\")\n",
    "    plt.plot(GEO.dimensionalise(T_gs, u.degC),GEO.dimensionalise(depths, u.kilometer), label=\"T_gs\")\n",
    "    plt.plot(GEO.dimensionalise(T_gl, u.degC),GEO.dimensionalise(depths, u.kilometer), label=\"T_gl\")\n",
    "    plt.plot(GEO.dimensionalise(temperature, u.degC),GEO.dimensionalise(depths, u.kilometer), label=\"Geotherm\")\n",
    "    plt.xlabel(\"Temperature (degC)\")\n",
    "    plt.ylabel(\"Depth (km)\")\n",
    "    plt.legend()\n",
    "    plt.ylim(75, 0)\n",
    "    plt.show()"
   ]
  },
  {
   "cell_type": "code",
   "execution_count": null,
   "metadata": {
    "tags": [
     "analysis"
    ]
   },
   "outputs": [],
   "source": [
    "Model.update_melt_fraction()\n",
    "FigMelt = vis.Figure(figsize=(1200,400))\n",
    "FigMelt.Points(Model.swarm, Model.meltField, fn_size=3.0)\n",
    "FigMelt.show()"
   ]
  },
  {
   "cell_type": "code",
   "execution_count": null,
   "metadata": {
    "tags": [
     "analysis"
    ]
   },
   "outputs": [],
   "source": [
    "if GEO.uw.mpi.size == 1:\n",
    "    distances, meltFraction = GEO.extract_profile(Model.projMeltField, \n",
    "                                                  line = [(180.* u.kilometer, 0.),\n",
    "                                                          (180.* u.kilometer, Model.bottom)])\n",
    "\n",
    "    Fig, ax1 = plt.subplots(1,1,figsize=(10,7))\n",
    "    ax1.plot(meltFraction, GEO.dimensionalise(distances, u.kilometer))\n",
    "    ax1.set_xlabel(\"Melt Fraction\")\n",
    "    ax1.set_ylabel(\"Depth in kms\")\n",
    "    ax1.set_ylim(75, 0)\n",
    "    ax1.set_xlim(-0.1, 1.0)\n",
    "    ax1.set_title(\"Melt Fraction\")"
   ]
  },
  {
   "cell_type": "code",
   "execution_count": null,
   "metadata": {
    "tags": [
     "analysis"
    ]
   },
   "outputs": [],
   "source": [
    "FigVisc = vis.Figure(figsize=(1200,400))\n",
    "FigVisc.Points(Model.swarm, GEO.dimensionalise(Model.viscosityField, u.pascal*u.second), fn_size=3.0, logScale=True)\n",
    "FigVisc.show()"
   ]
  },
  {
   "cell_type": "code",
   "execution_count": null,
   "metadata": {
    "tags": [
     "analysis"
    ]
   },
   "outputs": [],
   "source": [
    "if GEO.uw.mpi.size == 1:\n",
    "    distances, viscosities = GEO.extract_profile(Model.projViscosityField, \n",
    "                                                 line = [(180.* u.kilometer, 0.),\n",
    "                                                         (180.* u.kilometer, Model.bottom)])\n",
    "\n",
    "    Fig, ax1 = plt.subplots(1,1,figsize=(10,7))\n",
    "    ax1.plot(GEO.dimensionalise(viscosities, u.pascal*u.second), GEO.dimensionalise(distances, u.kilometer))\n",
    "    ax1.set_xscale(\"log\")\n",
    "    ax1.set_xlabel(\"Log Viscosity (Pa.s)\")\n",
    "    ax1.set_ylabel(\"Depth in kms\")\n",
    "    ax1.set_ylim(75, 0)\n",
    "    ax1.set_xlim(1e16, 1e26)\n",
    "    ax1.set_title(\"Viscosity Profile\")"
   ]
  },
  {
   "cell_type": "code",
   "execution_count": null,
   "metadata": {},
   "outputs": [],
   "source": [
    "solver = Model.solver"
   ]
  },
  {
   "cell_type": "code",
   "execution_count": null,
   "metadata": {},
   "outputs": [],
   "source": [
    "if resolution[0] * resolution[1] < 1e6:\n",
    "    print(\"Using mumps\")\n",
    "    solver.set_inner_method(\"mumps\")\n",
    "else:\n",
    "    print(\"Using multigrid with coarse mumps\")\n",
    "    solver.options.A11.mg_coarse_pc_factor_mat_solver_package = \"mumps\"\n",
    "    solver.options.A11.mg_coarse_pc_type = \"lu\"\n",
    "    solver.options.A11.mg_coarse_ksp_type = \"preonly\""
   ]
  },
  {
   "cell_type": "code",
   "execution_count": null,
   "metadata": {},
   "outputs": [],
   "source": [
    "Model.solver.set_penalty(1e6)"
   ]
  },
  {
   "cell_type": "code",
   "execution_count": null,
   "metadata": {},
   "outputs": [],
   "source": [
    "## ACTIVATE THIS CELL FOR PHASE 2 (DELAMINATION) OF THE MODEL\n",
    "## UPDATE ACCORDING TO RESTART STEP, TIME (70 my in case of slow shortening, 7 my in case of fast shortening)\n",
    "#def post_solve_hook():\n",
    "#    new_heat_BC_flow =  (- 0.000000004 * u.watt / u.metre**2/u.year)*(Model.time - 70 * u.megayear ) - 0.020 * u.watt / u.meter**2\n",
    "#    Model.set_heatFlowBCs(bottom=(new_heat_BC_flow, uppermantle))\n",
    "#    print(\"New heat flow is {}\".format(new_heat_BC_flow))\n",
    "        \n",
    "#Model.postSolveHook = post_solve_hook"
   ]
  },
  {
   "cell_type": "code",
   "execution_count": null,
   "metadata": {},
   "outputs": [],
   "source": [
    "## ACTIVATE THIS CELL FOR PHASE 3 (COLLAPSE) OF THE MODEL\n",
    "## UPDATE ACCORDING TO RESTART STEP, TIME (72.5 my in case of slow shortening, 9.5 my in case of fast shortening) and BHF VALUES if necessary\n",
    "#def post_solve_hook():  \n",
    "#    new_heat_BC_flow =  (0.0000000002 * u.watt / u.metre**2/u.year)*(Model.time - 72.5 * u.megayear ) - 0.030 * u.watt / u.meter**2\n",
    "#    Model.set_heatFlowBCs(bottom=(new_heat_BC_flow, uppermantle))\n",
    "#    print(\"New heat flow is {}\".format(new_heat_BC_flow))\n",
    "    \n",
    "#Model.postSolveHook = post_solve_hook"
   ]
  },
  {
   "cell_type": "code",
   "execution_count": null,
   "metadata": {},
   "outputs": [],
   "source": [
    "def post_hook():  \n",
    "##    Stop any brittle yielding near the edges of the model\n",
    "    coords = fn.input()\n",
    "    zz = (coords[0] - GEO.nd(Model.minCoord[0])) / (GEO.nd(Model.maxCoord[0]) - GEO.nd(Model.minCoord[0]))\n",
    "    fact = fn.math.pow(fn.math.tanh(zz*20.0) + fn.math.tanh((1.0-zz)*20.0) - fn.math.tanh(20.0), 4)\n",
    "    Model.plasticStrain.data[:] = Model.plasticStrain.data[:] * fact.evaluate(Model.swarm)"
   ]
  },
  {
   "cell_type": "code",
   "execution_count": null,
   "metadata": {},
   "outputs": [],
   "source": [
    "## ACTIVATE THIS CELL FOR PHASE 1 (SHORTENING) OF THE MODEL\n",
    "# Model.run_for(7000000.* u.years, checkpoint_interval=50000. * u.year)"
   ]
  },
  {
   "cell_type": "code",
   "execution_count": null,
   "metadata": {},
   "outputs": [],
   "source": [
    "## ACTIVATE THIS CELL FOR PHASE 2 (DELAMINATION) and 3 (COLLAPSE) OF THE MODEL\n",
    "## ADJUST RESTART RUN TIME AND STEP\n",
    "#Model.run_for(12000000.* u.years, restartStep=2620, restartDir= \"outputs_script-G48875-Cenki-etal_Phaneroz2bis\", checkpoint_interval=50000. * u.year)"
   ]
  }
 ],
 "metadata": {
  "jupytext": {
   "formats": "ipynb,auto:percent"
  },
  "kernelspec": {
   "display_name": "Python 3 (ipykernel)",
   "language": "python",
   "name": "python3"
  },
  "language_info": {
   "codemirror_mode": {
    "name": "ipython",
    "version": 3
   },
   "file_extension": ".py",
   "mimetype": "text/x-python",
   "name": "python",
   "nbconvert_exporter": "python",
   "pygments_lexer": "ipython3",
   "version": "3.9.7"
  }
 },
 "nbformat": 4,
 "nbformat_minor": 4
}
